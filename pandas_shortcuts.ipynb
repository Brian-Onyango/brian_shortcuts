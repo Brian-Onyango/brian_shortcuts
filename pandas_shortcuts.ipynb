{
 "cells": [
  {
   "cell_type": "markdown",
   "metadata": {},
   "source": [
    "Dropping unnecesary columns"
   ]
  },
  {
   "cell_type": "markdown",
   "metadata": {},
   "source": [
    "\n",
    "df1 = df.drop(columns=['Lower Error Bound','Upper Error Bound','NOAA Adjusted Sea Level'])\n",
    "df1"
   ]
  },
  {
   "cell_type": "markdown",
   "metadata": {},
   "source": [
    "Rename multiple column"
   ]
  },
  {
   "cell_type": "markdown",
   "metadata": {},
   "source": [
    "df.rename(columns = {'test':'TEST', 'odi':'ODI','t20':'T20'}, inplace = True)"
   ]
  },
  {
   "cell_type": "markdown",
   "metadata": {},
   "source": [
    "Plotting Scatterplot Using Matplotlib"
   ]
  },
  {
   "cell_type": "markdown",
   "metadata": {},
   "source": [
    "# Plotting our scatterplot\n",
    "plt.scatter(iris_df['mpg'], iris_df['weight'])\n",
    "\n",
    "# Giving our scatterplot a title\n",
    "plt.title('MPG vs Weight')\n",
    "\n",
    "# Labelling our x axis\n",
    "plt.xlabel('MPG')\n",
    "\n",
    "# Labelling our y axis\n",
    "plt.ylabel('Weight')\n",
    "\n",
    "# Displaying our scatterplot\n",
    "plt.show()"
   ]
  },
  {
   "cell_type": "markdown",
   "metadata": {},
   "source": [
    "Plotting Scatterplot using Pandas"
   ]
  },
  {
   "cell_type": "markdown",
   "metadata": {},
   "source": [
    "# Using Pandas: Plotting our scatterplot to compare the variables\n",
    "df.plot(x = 'diameter_at_breast_height_cm', y = 'clear_fell_ksh/_m_cubed', kind='scatter')"
   ]
  },
  {
   "cell_type": "markdown",
   "metadata": {},
   "source": [
    "Plotting Scatterplot using Seaborn"
   ]
  },
  {
   "cell_type": "markdown",
   "metadata": {},
   "source": [
    "# Or Using Seaborn: Using the function regplot to create our scatterplot\n",
    "sns.regplot(x = trees_df[\"diameter_at_breast_height_cm\"], y = trees_df[\"clear_fell_ksh/_m_cubed\"], fit_reg=False)\n",
    "\n",
    "# # Giving our scatterplot a title\n",
    "plt.title('Diameter at Breast (cm) vs Clearfell Fees (m^3)')\n",
    "\n",
    "# # Labelling our x axis\n",
    "plt.xlabel('Diameter at Breast (cm)')\n",
    "\n",
    "# # Labelling our y axis\n",
    "plt.ylabel('Clearfell Fees (m^3)')\n",
    "\n",
    "# # We then display our scatterplot as shown below\n",
    "plt.show()"
   ]
  },
  {
   "cell_type": "markdown",
   "metadata": {},
   "source": [
    "Calculating the pearson coefficient"
   ]
  },
  {
   "cell_type": "markdown",
   "metadata": {},
   "source": [
    "# Calculating the pearson coefficient\n",
    "pearson_coeff = df[\"weight\"].corr(df[\"displacement\"], method=\"pearson\") \n",
    "print(pearson_coeff)\n",
    "\n",
    "# Correlation coefficients between -.20 and .20 are generally considered weak, \n",
    "# between .20 and .50 (positive or negative) are considered moderate, \n",
    "# and above .50 (positive or negative) are considered strong. \n",
    "# A negative (inverse) correlation occurs when the correlation coefficient is less than 0 \n",
    "# and indicates that both variables move in the opposite direction. \n",
    "# In short, any reading between 0 and -1 means that the two securities move in opposite directions.\n",
    "# When the value of the correlation coefficient is close to zero, generally between -0.1 and +0.1, \n",
    "# the variables are said to have no linear relationship or a very weak linear relationship. \n",
    "\n",
    "# Calculating the pearson coefficient of an entire dataset\n",
    "df.corr() "
   ]
  },
  {
   "cell_type": "markdown",
   "metadata": {},
   "source": [
    "Stacked Column Chart"
   ]
  },
  {
   "cell_type": "markdown",
   "metadata": {},
   "source": [
    "Stacked column charts work well when the focus of the chart is to compare the totals and one part of the totals. It is a useful graph to visualize the relationship between two categorical variables. It compares the percentage that each category from one variable contributes to a total across categories of the second variable."
   ]
  },
  {
   "cell_type": "markdown",
   "metadata": {},
   "source": [
    "teams       = ['Kiboko', 'Kifaru', 'Twiga', 'Ndovu']\n",
    "womenPoints = [10 , 25, 40, 23]\n",
    "menPoints   = [10 , 20, 15, 22]\n",
    " \n",
    "X = [team for team in teams]\n",
    "\n",
    "plt.bar(X, womenPoints, label='Women')\n",
    "plt.bar(X, menPoints, label='Men', bottom = womenPoints)\n",
    "\n",
    "# Labeling our y axis\n",
    "plt.ylabel(\"Points\")\n",
    "\n",
    "# Labeling our x axis\n",
    "plt.xlabel(\"Teams\")\n",
    "\n",
    "# Creating a key/legend for our chart\n",
    "plt.legend(loc=\"upper right\")\n",
    "\n",
    "# Adding a title\n",
    "plt.title(\"Teams vs Points\")\n",
    "\n",
    "# Displaying our chart\n",
    "plt.show()"
   ]
  },
  {
   "cell_type": "markdown",
   "metadata": {},
   "source": [
    "# Loading our dataset\n",
    "bike_sales_df = pd.read_csv(\"http://bit.ly/Bikes-Sales-Dataset\")\n",
    "\n",
    "bike_sales_df[['hybrid', 'racing', 'electric']].plot(kind='bar', figsize=(8, 6), stacked=True)\n",
    "\n",
    "# Rotating our x axis ticks\n",
    "plt.xticks(rotation = 45)\n",
    "\n",
    "# Giving our chart a title\n",
    "plt.title(\"Sales of Hybrid, Racing and Electric Bikes (May 2017 - May 18)\", fontsize=14, y=1.015)\n",
    "\n",
    "# Labeling our y axis\n",
    "plt.ylabel(\"Sales\", fontsize=14, labelpad=15)\n",
    "\n",
    "# Labeling our x axis\n",
    "plt.xlabel(\"Months\", fontsize=14, labelpad=15)\n",
    "\n",
    "# Displaying our chart\n",
    "plt.show()"
   ]
  },
  {
   "cell_type": "markdown",
   "metadata": {},
   "source": [
    "Plotting a Pie chart"
   ]
  },
  {
   "cell_type": "markdown",
   "metadata": {},
   "source": [
    "df = pd.read_csv(\"http://bit.ly/AgePopulationDataset\")\n",
    "\n",
    "# Previewing the dataset \n",
    "df.head()\n",
    "\n",
    "# Assigning our columns to population and age variables\n",
    "population = df['population']\n",
    "age        = df['age']\n",
    "explode = (0.1, 0, 0, 0)  \n",
    "# Plotting our pie chart\n",
    "plt.pie(population, labels = age, autopct = '%1.1f%%', shadow = True, startangle = 140,explode=explode)\n",
    "plt.axis('equal')\n",
    "plt.title('Pie Chart of Age population')\n",
    "plt.show()"
   ]
  },
  {
   "cell_type": "markdown",
   "metadata": {},
   "source": [
    "labels = ['Python', 'C++', 'Ruby', 'Java']\n",
    "sizes  = [215, 130, 245, 210]\n",
    "colors = ['gold', 'yellowgreen', 'lightcoral', 'lightskyblue']\n",
    "\n",
    "# Highlights a particular Value in plot\n",
    "explode = (0.1, 0, 0, 0)  \n",
    "\n",
    "# Plotting our pie chart\n",
    "plt.pie(sizes, explode=explode, labels=labels, colors=colors,\n",
    "autopct='%1.1f%%', shadow=True, startangle=140)\n",
    "\n",
    "plt.axis('equal')\n",
    "plt.title('Pie Chart of Programming Languages')\n",
    "plt.show()"
   ]
  },
  {
   "cell_type": "markdown",
   "metadata": {},
   "source": [
    "Plotting a Bar Chart"
   ]
  },
  {
   "cell_type": "markdown",
   "metadata": {},
   "source": [
    "x = ['Nuclear', 'Hydro', 'Gas', 'Oil', 'Coal', 'Biofuel']\n",
    "energy = [5, 6, 15, 22, 24, 8]\n",
    " \n",
    "\n",
    "plt.bar(x, energy, color='indigo')\n",
    "\n",
    "# Labelling our x axis\n",
    "plt.xlabel(\"Energy Source\")\n",
    "\n",
    "# Labelling our y axis\n",
    "plt.ylabel(\"Energy Output (GJ)\")\n",
    "\n",
    "# Giving a title to our Bar chart\n",
    "plt.title(\"Energy output from various fuel sources\")\n",
    "\n",
    "# Displaying our chart\n",
    "plt.show()"
   ]
  },
  {
   "cell_type": "markdown",
   "metadata": {},
   "source": [
    "Plotting a Histogram"
   ]
  },
  {
   "cell_type": "markdown",
   "metadata": {},
   "source": [
    "# Dataset url = http://bit.ly/WineDataset\n",
    "# Loading out dataset\n",
    "wine_df = pd.read_csv(\"http://bit.ly/WineDataset\")\n",
    "\n",
    "wine_points = wine_df['points']\n",
    "\n",
    "plt.hist(wine_points, bins=10, histtype='bar', rwidth=0.9)\n",
    "plt.xlabel('No. of Wines')\n",
    "plt.ylabel('Quantity')\n",
    "plt.title('Histogram of Points of Wine vs No. of Wines')\n",
    "plt.show()"
   ]
  },
  {
   "cell_type": "markdown",
   "metadata": {},
   "source": [
    "Measures of Dispersion/Variability/Spread"
   ]
  },
  {
   "cell_type": "markdown",
   "metadata": {},
   "source": [
    "# Example 1: Standard Deviation \n",
    "nakuru_county_herbicide_prices_df[\"Average_Price\"].std()\n",
    "# Example 2: Variance\n",
    "nakuru_county_herbicide_prices_df[\"Average_Price\"].var()\n",
    "# Examples 3: Range\n",
    "nakuru_county_herbicide_prices_max = nakuru_county_herbicide_prices_df[\"Average_Price\"].max()\n",
    "nakuru_county_herbicide_prices_min = nakuru_county_herbicide_prices_df[\"Average_Price\"].min()\n",
    "nakuru_county_herbicide_prices_max - nakuru_county_herbicide_prices_min\n",
    "# Example 4: Quantiles \n",
    "nakuru_county_herbicide_prices_df[\"Average_Price\"].quantile([0.25,0.5,0.75])\n",
    "# Examples 5: Skewness\n",
    "nakuru_county_herbicide_prices_df[\"Average_Price\"].skew()\n",
    "# Examples 6: Kurtosis\n",
    "nakuru_county_herbicide_prices_df[\"Average_Price\"].kurt()\n",
    "# Example 7: Displaying the summary statistics of the dataframe\n",
    "nakuru_county_herbicide_prices_df['Average_Price'].describe()"
   ]
  },
  {
   "cell_type": "markdown",
   "metadata": {},
   "source": [
    "Plotting Box Plots"
   ]
  },
  {
   "cell_type": "markdown",
   "metadata": {},
   "source": [
    "# Using seaborn\n",
    "sns.boxplot(nakuru_county_herbicide_prices_df[\"Average_Price\"], showmeans=True)\n",
    "# Using Matplotlib\n",
    "df.boxplot([\"TARGET_AREA_HA_SHORT_RAINS\"])"
   ]
  },
  {
   "cell_type": "markdown",
   "metadata": {},
   "source": [
    "fig, ax = plt.subplots(figsize=(14,8))\n",
    "\n",
    "ax.set_ylabel('Odometer')\n",
    "\n",
    "# boxplot with only these two variables\n",
    "_ = df[['condition', 'odometer']].boxplot(by='condition', figsize=(13,8), vert=True, sym='b.', ax=ax)"
   ]
  },
  {
   "cell_type": "markdown",
   "metadata": {},
   "source": [
    "Plotting Line Charts"
   ]
  },
  {
   "cell_type": "markdown",
   "metadata": {},
   "source": [
    "hours    = [1, 2, 3, 4, 5, 6, 7, 8, 9]\n",
    "sunlight = [2, 3, 4, 5, 7, 9, 13, 15, 17]\n",
    "\n",
    "# Plotting our line graph\n",
    "plt.plot(hours, sunlight)\n",
    "\n",
    "# Giving a title to our line graph\n",
    "plt.title(\"Sunlight vs Time (hrs)\", fontsize=14, y=1.015)\n",
    "\n",
    "# Labelling the y-axis\n",
    "plt.ylabel('Sunlight')\n",
    "\n",
    "# Labelling the x-axis\n",
    "plt.xlabel('Time')\n",
    "\n",
    "# Displaying our graph\n",
    "plt.show()"
   ]
  },
  {
   "cell_type": "markdown",
   "metadata": {},
   "source": [
    "# Dataset url = http://bit.ly/Bikes-Sales-Dataset\n",
    "# ---\n",
    "#\n",
    "\n",
    "# Loading our dataset\n",
    "bikes_dataset_df = pd.read_csv(\"http://bit.ly/Bikes-Sales-Dataset\")\n",
    "\n",
    "# Plotting our line graph\n",
    "bikes_dataset_df[[\"hybrid\"]].plot()\n",
    "\n",
    "# Giving a title to our line graph\n",
    "plt.title(\"Sales of Hybrid Bikes from May 2017 to May 2018\", fontsize=14, y=1.015)\n",
    "\n",
    "# Labelling the y-axis\n",
    "plt.ylabel('Sales')\n",
    "\n",
    "# Labelling the x-axis\n",
    "plt.xlabel('Time')\n",
    "\n",
    "# Displaying our graph\n",
    "plt.show()"
   ]
  },
  {
   "cell_type": "markdown",
   "metadata": {},
   "source": [
    "Selecting/Filtering specific rows from a dataframe"
   ]
  },
  {
   "cell_type": "markdown",
   "metadata": {},
   "source": [
    "df1 = df[df[\"Age\"] > 35 &or]"
   ]
  },
  {
   "cell_type": "markdown",
   "metadata": {},
   "source": [
    "Selecting/Filtering specific columns from a dataframe"
   ]
  },
  {
   "cell_type": "markdown",
   "metadata": {},
   "source": [
    "df1 = df[['Name','Age','Gender']]"
   ]
  },
  {
   "cell_type": "markdown",
   "metadata": {},
   "source": [
    "Selecting/Filtering specific rows and columns from a DataFrame"
   ]
  },
  {
   "cell_type": "markdown",
   "metadata": {},
   "source": [
    "# using loc\n",
    "df1 = df.loc[df[\"Age\"] > 35, \"Name\"]\n",
    "# using iloc: I’m interested in rows 10 till 25 and columns 3 to 5.\n",
    "df1 = df.iloc[9:25, 2:5]"
   ]
  },
  {
   "cell_type": "markdown",
   "metadata": {},
   "source": [
    "Z-test"
   ]
  },
  {
   "cell_type": "markdown",
   "metadata": {},
   "source": [
    "from scipy import stats\n",
    "\n",
    "a = np.array([ 0.7972, 0.0767, 0.4383, 0.7866, 0.8091, 0.1954, 0.6307, 0.6599, 0.1065, 0.0508])\n",
    "stats.zscore(a)"
   ]
  },
  {
   "cell_type": "markdown",
   "metadata": {},
   "source": [
    "T-test"
   ]
  },
  {
   "cell_type": "markdown",
   "metadata": {},
   "source": [
    "# Example 1\n",
    "# --- \n",
    "# Question: Let's calculate the t-test for the mean of one group of scores \n",
    "# x = [1 , 2, 3, 4, 5]\n",
    "# ---\n",
    "#\n",
    "\n",
    "# Importing ttest_1samp from scipy.stats\n",
    "from scipy.stats import ttest_1samp\n",
    "\n",
    "# Defining x and expected mean\n",
    "x = [1, 1, 1, 1, 12]\n",
    "\n",
    "expected_mean = 0\n",
    "\n",
    "# Calculating the t-test\n",
    "t_statistic, p_value = ttest_1samp(x, expected_mean, axis = 0)\n",
    "\n",
    "# Then displaying the t-statistic\n",
    "t_statistic"
   ]
  },
  {
   "cell_type": "markdown",
   "metadata": {},
   "source": [
    "# Example 2\n",
    "# ---\n",
    "# Computing the t-test for the means of two independent samples of scores; Group X and Y\n",
    "# x = [4, 5, 7, 5, 2]\n",
    "# y = [5, 6, 3, 6, 11]\n",
    "# ---\n",
    "# \n",
    "\n",
    "# Importing ttest_1samp from scipy.stats\n",
    "from scipy.stats import ttest_ind\n",
    "\n",
    "# Defining our scores...x and y\n",
    "x = [1, 2, 3, 4, 7]\n",
    "y = [1, 2, 3, 4, 6]\n",
    "\n",
    "# Then calculating the t-test\n",
    "t_statistic, p_value = ttest_ind(x, y)\n",
    "\n",
    "# Then displaying the t-statistic\n",
    "t_statistic"
   ]
  }
 ],
 "metadata": {
  "language_info": {
   "name": "python"
  },
  "orig_nbformat": 4
 },
 "nbformat": 4,
 "nbformat_minor": 2
}
