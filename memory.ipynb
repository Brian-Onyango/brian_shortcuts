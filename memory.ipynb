{
 "cells": [
  {
   "cell_type": "markdown",
   "metadata": {},
   "source": [
    "#git shortcuts\n",
    "# $ pwd: Prints the path of the current directory to the screen\n",
    "# $ ls: Lists out the contents of the current folder\n",
    "# $ cd directory-name: Changes the current directory to the one specified\n",
    "# $ cd or $ cd ~: Changes the current directory to the home directory\n",
    "# $ cd ..: Changes the current directory up one level\n",
    "# $ mkdir directory-name: Creates a new directory (folder) in the current directory with the name specified\n",
    "# $ touch file-name.ipynb: Creates a new, empty file in the current directory with the name specified\n",
    "# $ cp original-file.ipynb new-file.ipynb: Creates a duplicate copy of the first file listed and gives it the name of the second file listed. Both files still exist.\n",
    "# $ mv original-file-name.ipynb new-file-name.ipynb: Moves the contents of the first file into the second file. Effectively renames the file.\n",
    "# $ mv sample-file.ipynb new-location/sample-file.ipynb: Moves the first file into the folder specified for the second file.\n",
    "# $ rm file-name.ipynb: Removes the file specified.\n",
    "# $ rm -rf directory-name: Removes the folder specified and all of the files inside.\n",
    "# $ clear: Clears the terminal screen.\n",
    "# Project Setup\n",
    "# $ git init: Initializes new local Git repository in the current directory.\n",
    "# Tracking Files\n",
    "# $ git add .: Adds ALL files with changes to be committed.\n",
    "# $ git add [file]: Adds the named file to be committed.\n",
    "# $ git commit -m \"[message]\": records all of the staged files permanently to the version history; message should describe the changes finishing the phrase \"This commit will…\".\n",
    "# Example: $ git commit -m \"add submit functionality for the form\"\n",
    "# Remote Repositories\n",
    "# $ git remote add [remote name] [remote URL]: Adds a remote with the name specified for the repository to the remote URL provided.\n",
    "# $ git remote -v: Shows the names and URLs for all of the remote repositories that the project's Git repository has stored.\n",
    "# $ git push [remote name] [branch name]: Copies the code to the remote repository from the local Git repository.\n",
    "# $ git clone [remote URL]: Copies the code and commit history from a remote repository to a local repository.\n",
    "# Reviewing Git Info\n",
    "# $ git log: Lists commit history for the current branch.\n",
    "# $ git log --oneline: Lists a condensed format of the commit history for the current branch.\n",
    "# $ git status: Lists the files where changes have been made to be committed."
   ]
  },
  {
   "cell_type": "markdown",
   "metadata": {},
   "source": []
  },
  {
   "cell_type": "code",
   "execution_count": null,
   "metadata": {},
   "outputs": [],
   "source": []
  }
 ],
 "metadata": {
  "language_info": {
   "name": "python"
  },
  "orig_nbformat": 4
 },
 "nbformat": 4,
 "nbformat_minor": 2
}
